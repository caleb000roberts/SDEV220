{
 "cells": [
  {
   "cell_type": "code",
   "execution_count": 48,
   "id": "1563965d-9838-4d93-b7a2-e92265bf341d",
   "metadata": {},
   "outputs": [
    {
     "name": "stdout",
     "output_type": "stream",
     "text": [
      "Successfully wrote the date '2023-12-05 01:37:15 ' to today.txt\n"
     ]
    }
   ],
   "source": [
    "from datetime import datetime\n",
    "\n",
    "# Get the current date and time\n",
    "current_date_time = datetime.now()\n",
    "\n",
    "# Convert the date to a string\n",
    "date_string = current_date_time.strftime(\"%Y-%m-%d %H:%M:%S %Z\")  # Format includes timezone info\n",
    "\n",
    "# Write the date string to the file\n",
    "file_path = 'today.txt'\n",
    "\n",
    "with open(file_path, 'w') as file:\n",
    "    file.write(date_string)\n",
    "\n",
    "print(f\"Successfully wrote the date '{date_string}' to {file_path}\")"
   ]
  },
  {
   "cell_type": "code",
   "execution_count": 49,
   "id": "feedb846-1d62-4535-a280-655b121cb094",
   "metadata": {},
   "outputs": [
    {
     "name": "stdout",
     "output_type": "stream",
     "text": [
      "2023-12-05 01:37:15 \n"
     ]
    }
   ],
   "source": [
    "file_path = 'today.txt'\n",
    "\n",
    "# Read the contents of the file into a string\n",
    "with open(file_path, 'r') as file:\n",
    "    today_string = file.read()\n",
    "\n",
    "print(today_string)"
   ]
  },
  {
   "cell_type": "code",
   "execution_count": 52,
   "id": "89024052-cf67-4694-aad7-67ef8db4c932",
   "metadata": {},
   "outputs": [
    {
     "name": "stdout",
     "output_type": "stream",
     "text": [
      "2023-12-05 01:37:15\n"
     ]
    }
   ],
   "source": [
    "today_string = \"2023-12-05 01:37:15\" \n",
    "\n",
    "# Parse the date string into a datetime object\n",
    "parsed_date = datetime.strptime(today_string, \"%Y-%m-%d %H:%M:%S\")\n",
    "\n",
    "print(parsed_date)"
   ]
  },
  {
   "cell_type": "code",
   "execution_count": 54,
   "id": "7192d636-308a-4464-85f6-efe84f526438",
   "metadata": {},
   "outputs": [
    {
     "name": "stdout",
     "output_type": "stream",
     "text": [
      "Current time after 0.2827 seconds delay: 2023-12-05 01:39:38\n",
      "Current time after 0.3687 seconds delay: 2023-12-05 01:39:38\n",
      "Current time after 0.6511 seconds delay: 2023-12-05 01:39:39\n"
     ]
    }
   ],
   "source": [
    "import multiprocessing\n",
    "import time\n",
    "import random\n",
    "from datetime import datetime\n",
    "\n",
    "# Function to print current time after a random delay\n",
    "def print_current_time():\n",
    "    # Generate a random delay between 0 and 1 second\n",
    "    delay = random.random()\n",
    "    time.sleep(delay)\n",
    "    \n",
    "    # Print the current time after the delay\n",
    "    current_time = datetime.now().strftime(\"%Y-%m-%d %H:%M:%S\")\n",
    "    print(f\"Current time after {delay:.4f} seconds delay: {current_time}\")\n",
    "\n",
    "if __name__ == \"__main__\":\n",
    "    # Create three separate processes\n",
    "    processes = []\n",
    "    for _ in range(3):\n",
    "        process = multiprocessing.Process(target=print_current_time)\n",
    "        processes.append(process)\n",
    "        process.start()\n",
    "\n",
    "    # Wait for all processes to finish\n",
    "    for process in processes:\n",
    "        process.join()"
   ]
  },
  {
   "cell_type": "code",
   "execution_count": null,
   "id": "5e5649ae-7403-4083-9c1f-28f33b2a05f5",
   "metadata": {},
   "outputs": [],
   "source": []
  }
 ],
 "metadata": {
  "kernelspec": {
   "display_name": "anaconda-panel-2023.05-py310",
   "language": "python",
   "name": "conda-env-anaconda-panel-2023.05-py310-py"
  },
  "language_info": {
   "codemirror_mode": {
    "name": "ipython",
    "version": 3
   },
   "file_extension": ".py",
   "mimetype": "text/x-python",
   "name": "python",
   "nbconvert_exporter": "python",
   "pygments_lexer": "ipython3",
   "version": "3.11.5"
  }
 },
 "nbformat": 4,
 "nbformat_minor": 5
}
