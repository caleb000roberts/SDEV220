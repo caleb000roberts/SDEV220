{
 "cells": [
  {
   "cell_type": "code",
   "execution_count": null,
   "id": "6894fd30-2c62-45cf-9eea-90e781c401a7",
   "metadata": {},
   "outputs": [],
   "source": [
    "class Vehicle():\n",
    "    def __init__(self, vehicle_type):\n",
    "        self.type = vehicle_type\n",
    "\n",
    "class Car(Vehicle):\n",
    "    def __init__(self, year, make, model, doors, roof, vehicle_type):\n",
    "        super().__init__(vehicle_type)\n",
    "        self.year = year\n",
    "        self.make = make\n",
    "        self.model = model\n",
    "        self.doors = doors\n",
    "        self.roof = roof\n",
    "\n",
    "def get_user_input():\n",
    "    vehicle_type = input(\"Enter vehicle type (car, truck, plane, boat, broomstick): \").lower()\n",
    "    year = input(\"Enter the year: \")\n",
    "    make = input(\"Enter the make: \")\n",
    "    model = input(\"Enter the model: \")\n",
    "    doors = input(\"Enter the number of doors (2 or 4): \")\n",
    "    roof = input(\"Enter the type of roof (solid or sun roof): \")\n",
    "    return vehicle_type, year, make, model, doors, roof\n",
    "\n",
    "def main():\n",
    "    vehicle_type, year, make, model, doors, roof = get_user_input()\n",
    "    car_instance = Car(year, make, model, doors, roof, vehicle_type)\n",
    "\n",
    "    print(\"\\nVehicle Information:\")\n",
    "    print(f\"  Vehicle type: {car_instance.type}\")\n",
    "    print(f\"  Year: {car_instance.year}\")\n",
    "    print(f\"  Make: {car_instance.make}\")\n",
    "    print(f\"  Model: {car_instance.model}\")\n",
    "    print(f\"  Number of doors: {car_instance.doors}\")\n",
    "    print(f\"  Type of roof: {car_instance.roof}\")\n",
    "\n",
    "if __name__ == \"__main__\":\n",
    "    main()"
   ]
  }
 ],
 "metadata": {
  "kernelspec": {
   "display_name": "anaconda-panel-2023.05-py310",
   "language": "python",
   "name": "conda-env-anaconda-panel-2023.05-py310-py"
  },
  "language_info": {
   "codemirror_mode": {
    "name": "ipython",
    "version": 3
   },
   "file_extension": ".py",
   "mimetype": "text/x-python",
   "name": "python",
   "nbconvert_exporter": "python",
   "pygments_lexer": "ipython3",
   "version": "3.11.5"
  }
 },
 "nbformat": 4,
 "nbformat_minor": 5
}
