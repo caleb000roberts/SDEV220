{
 "cells": [
  {
   "cell_type": "code",
   "execution_count": null,
   "id": "3af1606d-71fb-48de-9162-b16c1c2856a9",
   "metadata": {},
   "outputs": [
    {
     "name": "stdin",
     "output_type": "stream",
     "text": [
      "Enter student's last name. Enter ZZZ to quit:  Roberts\n",
      "Enter student's first name:  Caleb\n",
      "Enter student's GPA:  4\n"
     ]
    },
    {
     "name": "stdout",
     "output_type": "stream",
     "text": [
      "Caleb Roberts has made the Dean List!\n"
     ]
    },
    {
     "name": "stdin",
     "output_type": "stream",
     "text": [
      "Enter student's last name. Enter ZZZ to quit:  Johnson\n",
      "Enter student's first name:  Rick\n",
      "Enter student's GPA:  3\n"
     ]
    },
    {
     "name": "stdout",
     "output_type": "stream",
     "text": [
      "Rick Johnson does not qualify for Dean's List or Honor Roll.\n"
     ]
    },
    {
     "name": "stdin",
     "output_type": "stream",
     "text": [
      "Enter student's last name. Enter ZZZ to quit:  Jones\n",
      "Enter student's first name:  Jason\n",
      "Enter student's GPA:  3.4\n"
     ]
    },
    {
     "name": "stdout",
     "output_type": "stream",
     "text": [
      "Jason Jones has made the Honor Roll!\n"
     ]
    },
    {
     "name": "stdin",
     "output_type": "stream",
     "text": [
      "Enter student's last name. Enter ZZZ to quit:  Ross\n",
      "Enter student's first name:  Rod\n",
      "Enter student's GPA:  2\n"
     ]
    },
    {
     "name": "stdout",
     "output_type": "stream",
     "text": [
      "Rod Ross does not qualify for Dean's List or Honor Roll.\n"
     ]
    },
    {
     "name": "stdin",
     "output_type": "stream",
     "text": [
      "Enter student's last name. Enter ZZZ to quit:  Connor\n",
      "Enter student's first name:  Sarah\n",
      "Enter student's GPA:  4\n"
     ]
    },
    {
     "name": "stdout",
     "output_type": "stream",
     "text": [
      "Sarah Connor has made the Dean List!\n"
     ]
    }
   ],
   "source": [
    "#Caleb Roberts\n",
    "#Honors Evaluator\n",
    "#App takes student name and GPA and determines if Deans list or honor roll\n",
    "#are applicable\n",
    "\n",
    "\n",
    "while True:\n",
    "    last_name = input(\"Enter student's last name. Enter ZZZ to quit: \")\n",
    "    \n",
    "    if last_name == \"ZZZ\":\n",
    "        break\n",
    "        \n",
    "    first_name = input(\"Enter student's first name: \")\n",
    "    gpa = float(input(\"Enter student's GPA: \"))\n",
    "    \n",
    "        \n",
    "    if gpa >= 3.5:\n",
    "        print(f\"{first_name} {last_name} has made the Dean List!\")\n",
    "    elif gpa >= 3.25:\n",
    "        print(f\"{first_name} {last_name} has made the Honor Roll!\")\n",
    "    else:\n",
    "        print(f\"{first_name} {last_name} does not qualify for Dean's List or Honor Roll.\")"
   ]
  },
  {
   "cell_type": "code",
   "execution_count": null,
   "id": "cdee5754-9dbb-4855-ab2e-3c0fa508f41b",
   "metadata": {},
   "outputs": [],
   "source": []
  }
 ],
 "metadata": {
  "kernelspec": {
   "display_name": "anaconda-panel-2023.05-py310",
   "language": "python",
   "name": "conda-env-anaconda-panel-2023.05-py310-py"
  },
  "language_info": {
   "codemirror_mode": {
    "name": "ipython",
    "version": 3
   },
   "file_extension": ".py",
   "mimetype": "text/x-python",
   "name": "python",
   "nbconvert_exporter": "python",
   "pygments_lexer": "ipython3",
   "version": "3.11.5"
  }
 },
 "nbformat": 4,
 "nbformat_minor": 5
}
